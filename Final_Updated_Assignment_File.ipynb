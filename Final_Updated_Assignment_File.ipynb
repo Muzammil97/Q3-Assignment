{
  "nbformat": 4,
  "nbformat_minor": 0,
  "metadata": {
    "colab": {
      "name": "Final Updated Assignment File.ipynb",
      "provenance": [],
      "collapsed_sections": []
    },
    "kernelspec": {
      "name": "python3",
      "display_name": "Python 3"
    }
  },
  "cells": [
    {
      "cell_type": "markdown",
      "metadata": {
        "id": "OxM0ifgh1F7m",
        "colab_type": "text"
      },
      "source": [
        "Download Following Dataset and use five text(use randomly generated 5 numbers and extract the data of the generated numbers from the dataset) to test the assignments. https://www.kaggle.com/bittlingmayer/amazonreviews\n",
        "\n",
        "1) one-hot coding of the following data using book codes (naive codes) of listing 6.1.\n",
        "\n",
        "2) Also, provide one-hot coding using Keras built-in function (listing 6.3).\n",
        "\n",
        "3) provide one-hot coding with hashing (listing 6.4)\n",
        "\n",
        "\n",
        "4) Validate the how much they are similar. Try to maximize the similarity (ideally should be 100% the same). Specify the reason if both are not the same.\n",
        "\n",
        "5) Try to implement word-embedding using code given in listing (6.7) and shared with me the embedding array as well as the word dictionary.\n",
        "\n",
        "6) From 6.8 code pre-trained word-embeddings\n",
        "\n",
        "7) Apply RNN to the given text (listing 6.21) and provide output\n",
        "\n",
        "8) Match the results of RNN (step 7) with the step 5 and also with step\n",
        "\n",
        "Share the output of the analysis.\n",
        "Submit your assignment here https://forms.gle/ta88MoyAC8Fmsd4n7"
      ]
    },
    {
      "cell_type": "code",
      "metadata": {
        "id": "v_wp2BSm1TF-",
        "colab_type": "code",
        "colab": {}
      },
      "source": [
        "from google.colab import drive\n",
        "drive.mount('/content/drive')"
      ],
      "execution_count": 0,
      "outputs": []
    },
    {
      "cell_type": "markdown",
      "metadata": {
        "id": "qBLcXNhU2RLe",
        "colab_type": "text"
      },
      "source": [
        "Importing Libraries\n"
      ]
    },
    {
      "cell_type": "code",
      "metadata": {
        "id": "tunkLt4M1TIg",
        "colab_type": "code",
        "colab": {}
      },
      "source": [
        "import pandas as pd\n",
        "import numpy as np\n",
        "from pandas import DataFrame as df\n",
        "import random, string, bz2, re\n",
        "import tensorflow as tf\n",
        "from tqdm import tqdm\n",
        "from sklearn.utils import shuffle \n",
        "from keras.models import Model\n",
        "from keras.preprocessing.text import one_hot, Tokenizer\n",
        "from keras.preprocessing.sequence import pad_sequences\n",
        "from keras.layers.embeddings import Embedding\n",
        "from sklearn.model_selection import train_test_split\n",
        "from tensorflow.keras.models import Sequential\n",
        "from tensorflow.keras.layers import Activation, Dropout, Dense, Conv2D, Flatten, Dropout, MaxPooling2D, BatchNormalization, Input, Conv1D, GlobalAveragePooling1D\n",
        "\n"
      ],
      "execution_count": 0,
      "outputs": []
    },
    {
      "cell_type": "markdown",
      "metadata": {
        "id": "C-nFpi_D2eHn",
        "colab_type": "text"
      },
      "source": [
        "Getting Data through online with wget library, extracting it & coping it to Amazon folder created in My Drive Folder"
      ]
    },
    {
      "cell_type": "code",
      "metadata": {
        "id": "FlQbsoV51TK4",
        "colab_type": "code",
        "colab": {
          "base_uri": "https://localhost:8080/",
          "height": 421
        },
        "outputId": "d5c84f4c-d1d8-4fc3-eddd-b2a58b96d8ab"
      },
      "source": [
        "!wget https://storage.googleapis.com/amazonreviews/train.ft.txt.bz2\n",
        "!wget https://storage.googleapis.com/amazonreviews/test.ft.txt.bz2\n",
        "!bzip2 -dk train.ft.txt.bz2\n",
        "!bzip2 -dk test.ft.txt.bz2\n",
        "!mkdir \"/content/drive/My Drive/Amazon Reviews\"\n",
        "!cp train.ft.txt  \"/content/drive/My Drive/Amazon Reviews\"\n",
        "!cp test.ft.txt  \"/content/drive/My Drive/Amazon Reviews\""
      ],
      "execution_count": 6,
      "outputs": [
        {
          "output_type": "stream",
          "text": [
            "--2020-06-13 18:07:11--  https://storage.googleapis.com/amazonreviews/train.ft.txt.bz2\n",
            "Resolving storage.googleapis.com (storage.googleapis.com)... 172.217.204.128, 2607:f8b0:400c:c07::80\n",
            "Connecting to storage.googleapis.com (storage.googleapis.com)|172.217.204.128|:443... connected.\n",
            "HTTP request sent, awaiting response... 200 OK\n",
            "Length: 464275989 (443M) [application/x-bzip2]\n",
            "Saving to: ‘train.ft.txt.bz2’\n",
            "\n",
            "train.ft.txt.bz2    100%[===================>] 442.77M  65.2MB/s    in 9.0s    \n",
            "\n",
            "2020-06-13 18:07:21 (49.2 MB/s) - ‘train.ft.txt.bz2’ saved [464275989/464275989]\n",
            "\n",
            "--2020-06-13 18:07:23--  https://storage.googleapis.com/amazonreviews/test.ft.txt.bz2\n",
            "Resolving storage.googleapis.com (storage.googleapis.com)... 172.217.204.128, 2607:f8b0:400c:c07::80\n",
            "Connecting to storage.googleapis.com (storage.googleapis.com)|172.217.204.128|:443... connected.\n",
            "HTTP request sent, awaiting response... 200 OK\n",
            "Length: 52653659 (50M) [application/x-bzip2]\n",
            "Saving to: ‘test.ft.txt.bz2’\n",
            "\n",
            "test.ft.txt.bz2     100%[===================>]  50.21M  25.6MB/s    in 2.0s    \n",
            "\n",
            "2020-06-13 18:07:26 (25.6 MB/s) - ‘test.ft.txt.bz2’ saved [52653659/52653659]\n",
            "\n"
          ],
          "name": "stdout"
        }
      ]
    },
    {
      "cell_type": "markdown",
      "metadata": {
        "id": "uabvP1vT4QSu",
        "colab_type": "text"
      },
      "source": [
        "Opening Train & Test file & reading lines # we can also open file as bz2 extention but it takes more time & also require to decode with utf-8 & also lines does not break on \\n code when we use print statement for showing our data so we will use open()\n"
      ]
    },
    {
      "cell_type": "code",
      "metadata": {
        "id": "PeHrmFgm1TNV",
        "colab_type": "code",
        "colab": {
          "base_uri": "https://localhost:8080/",
          "height": 72
        },
        "outputId": "a5ea4355-a6ec-4e9a-fb42-7e0af5c82784"
      },
      "source": [
        "#train_data1 = bz2.BZ2File(\"drive/My Drive/train.ft.txt.bz2\")\n",
        "#train_data1 = train_data1.readlines()\n",
        "#train_data1 = [x.decode('utf-8') for x in train_data1]\n",
        "\n",
        "train_data = open(\"/content/drive/My Drive/Amazon Reviews/train.ft.txt\", \"r\")\n",
        "train_data = train_data.read().splitlines()\n",
        "print(len(train_data)) \n",
        "type(train_data)\n",
        "\n",
        "#test_data1 = bz2.BZ2File(\"drive/My Drive/test.ft.txt.bz2\")\n",
        "#test_data1 = test_data1.readlines()\n",
        "#test_data1 = [x.decode('utf-8') for x in test_data1]\n",
        "\n",
        "test_data = open(\"/content/drive/My Drive/Amazon Reviews/test.ft.txt\", \"r\")\n",
        "test_data = test_data.read().splitlines()\n",
        "print(len(test_data))\n",
        "type(test_data)"
      ],
      "execution_count": 411,
      "outputs": [
        {
          "output_type": "stream",
          "text": [
            "3600000\n",
            "400000\n"
          ],
          "name": "stdout"
        },
        {
          "output_type": "execute_result",
          "data": {
            "text/plain": [
              "list"
            ]
          },
          "metadata": {
            "tags": []
          },
          "execution_count": 411
        }
      ]
    },
    {
      "cell_type": "markdown",
      "metadata": {
        "id": "xzdTErzIBs-V",
        "colab_type": "text"
      },
      "source": [
        "Only Selecting Random 1% of data because data is too large (Train data = 36000, Test data = 4000)"
      ]
    },
    {
      "cell_type": "code",
      "metadata": {
        "id": "9cr7Solp6Iqk",
        "colab_type": "code",
        "colab": {}
      },
      "source": [
        "train_len = int(len(train_data) / 100 * 1)\n",
        "test_len = int(len(test_data) / 100 * 1)\n",
        "\n"
      ],
      "execution_count": 0,
      "outputs": []
    },
    {
      "cell_type": "code",
      "metadata": {
        "id": "Hezejirz6ItW",
        "colab_type": "code",
        "colab": {}
      },
      "source": [
        "import random\n",
        "train_data = random.choices(train_data, k=train_len)\n",
        "test_data = random.choices(test_data, k=test_len)"
      ],
      "execution_count": 0,
      "outputs": []
    },
    {
      "cell_type": "markdown",
      "metadata": {
        "id": "dqHtjtSC6VvR",
        "colab_type": "text"
      },
      "source": [
        "Seprating Text & Labels from Train data & sorting in .lower() texts"
      ]
    },
    {
      "cell_type": "code",
      "metadata": {
        "id": "qQT5yW056XEi",
        "colab_type": "code",
        "colab": {}
      },
      "source": [
        "def splitReviewsLabels(lines):\n",
        "    reviews = []\n",
        "    labels = []\n",
        "    for review in tqdm(lines):\n",
        "        rev = reviewToX(review)   \n",
        "        label = reviewToY(review)\n",
        "        reviews.append(rev[0:1000]) #512\n",
        "        labels.append(label)\n",
        "    return reviews, labels\n",
        "\n",
        "def reviewToY(review):\n",
        "    return 1 if review.split(' ')[0] == '__label__1' else 0\n",
        "  \n",
        "def reviewToX(review):\n",
        "    review = review.split(' ', 1)[1][:].lower()\n",
        "    return review\n"
      ],
      "execution_count": 0,
      "outputs": []
    },
    {
      "cell_type": "code",
      "metadata": {
        "id": "hMHNx4IkGIWb",
        "colab_type": "code",
        "colab": {
          "base_uri": "https://localhost:8080/",
          "height": 54
        },
        "outputId": "d62786ea-0c34-4c20-9f82-2d6318532be0"
      },
      "source": [
        "data_train, label_train = splitReviewsLabels(train_data)\n",
        "data_test, label_test = splitReviewsLabels(test_data)"
      ],
      "execution_count": 415,
      "outputs": [
        {
          "output_type": "stream",
          "text": [
            "100%|██████████| 36000/36000 [00:00<00:00, 149816.78it/s]\n",
            "100%|██████████| 4000/4000 [00:00<00:00, 136685.73it/s]\n"
          ],
          "name": "stderr"
        }
      ]
    },
    {
      "cell_type": "markdown",
      "metadata": {
        "id": "n_fV1fIu1Q8P",
        "colab_type": "text"
      },
      "source": [
        "1) one-hot coding of the following data using book codes (naive codes) of listing 6.1."
      ]
    },
    {
      "cell_type": "code",
      "metadata": {
        "id": "Qv21qiQv0K4j",
        "colab_type": "code",
        "colab": {}
      },
      "source": [
        "samples = data_train[0:5]"
      ],
      "execution_count": 0,
      "outputs": []
    },
    {
      "cell_type": "code",
      "metadata": {
        "id": "JTQro9L00K9d",
        "colab_type": "code",
        "colab": {
          "base_uri": "https://localhost:8080/",
          "height": 129
        },
        "outputId": "acf594f3-5da2-49f9-d561-f47192a43cf9"
      },
      "source": [
        "samples"
      ],
      "execution_count": 417,
      "outputs": [
        {
          "output_type": "execute_result",
          "data": {
            "text/plain": [
              "['action: superb cast and acting talent here! lots of action and drama in this one. enjoy it, i did as well!',\n",
              " 'best of the bunch: of the myriad books about the bush administration, this one is certainly among the creme de la creme. this is not a screed by a reporter, pundit or \"commentator\" (although those can be fun too). dean knows his way around washington, and the white house, and indeed, around republican presidential administrations, from personal experience. dean\\'s writing is engaging and effective, both because he pulls no punches, which is refreshing and rare, but also because he succeeds in large part in making the world of the washington insider accessible to the general public. i believe that this book, unlike many others, will be persuasive even to those who are not already inclined to think as dean does. i certainly think that, if you are looking for a book to give some perspective on the current presidential administration, you can do no better than to begin here.',\n",
              " 'looks nice but too big: a well made, nice looking case but far too large for an r507. putting the camera in this case practically doubles the size of the camera and defeats the purpose of having a small camera. i suspect this is a consequence of the fact that this case is designed to fit so many different cameras. i returned it almost as soon as i received it and purchased a small, leather non-hp case which is exactly the size of the camera.',\n",
              " 'very unstable, costly tech support: i upgraded from paperport 9 and i wish i had never made the jump. 9 was virtually trouble free, 11 is a nightmare. it freezes up no less than a dozen times per day. tech support will tell you that they have had no complaints but i find that hard to believe. the only up side is that there is no other program out there that does all this one will do.',\n",
              " \"what a waste: what a waste of money. the cd is misleading... it was produced over 10 years ago and doesn't sound good at all.\"]"
            ]
          },
          "metadata": {
            "tags": []
          },
          "execution_count": 417
        }
      ]
    },
    {
      "cell_type": "code",
      "metadata": {
        "id": "Jp6Jvlb4RvHp",
        "colab_type": "code",
        "colab": {}
      },
      "source": [
        "\n",
        "token_index = {}\n",
        "for sample in samples:\n",
        "  for word in sample.split():\n",
        "    if word not in token_index:\n",
        "      token_index[word] = len(token_index) + 1\n",
        "\n",
        "max_length = 10\n",
        "\n",
        "results = np.zeros(shape=(len(samples),max_length,max(token_index.values()) + 1))\n",
        "\n",
        "for i, sample in enumerate(samples):\n",
        "  for j, word in list(enumerate(sample.split()))[:max_length]:\n",
        "    index = token_index.get(word)\n",
        "    results[i, j, index] = 1."
      ],
      "execution_count": 0,
      "outputs": []
    },
    {
      "cell_type": "code",
      "metadata": {
        "id": "goefeojiRvKR",
        "colab_type": "code",
        "colab": {
          "base_uri": "https://localhost:8080/",
          "height": 92
        },
        "outputId": "8238d84b-c7d6-4dbb-e65d-a983762cb91e"
      },
      "source": [
        "print(token_index)\n",
        "print(type(token_index))\n",
        "print(len(token_index))\n"
      ],
      "execution_count": 419,
      "outputs": [
        {
          "output_type": "stream",
          "text": [
            "{'action:': 1, 'superb': 2, 'cast': 3, 'and': 4, 'acting': 5, 'talent': 6, 'here!': 7, 'lots': 8, 'of': 9, 'action': 10, 'drama': 11, 'in': 12, 'this': 13, 'one.': 14, 'enjoy': 15, 'it,': 16, 'i': 17, 'did': 18, 'as': 19, 'well!': 20, 'best': 21, 'the': 22, 'bunch:': 23, 'myriad': 24, 'books': 25, 'about': 26, 'bush': 27, 'administration,': 28, 'one': 29, 'is': 30, 'certainly': 31, 'among': 32, 'creme': 33, 'de': 34, 'la': 35, 'creme.': 36, 'not': 37, 'a': 38, 'screed': 39, 'by': 40, 'reporter,': 41, 'pundit': 42, 'or': 43, '\"commentator\"': 44, '(although': 45, 'those': 46, 'can': 47, 'be': 48, 'fun': 49, 'too).': 50, 'dean': 51, 'knows': 52, 'his': 53, 'way': 54, 'around': 55, 'washington,': 56, 'white': 57, 'house,': 58, 'indeed,': 59, 'republican': 60, 'presidential': 61, 'administrations,': 62, 'from': 63, 'personal': 64, 'experience.': 65, \"dean's\": 66, 'writing': 67, 'engaging': 68, 'effective,': 69, 'both': 70, 'because': 71, 'he': 72, 'pulls': 73, 'no': 74, 'punches,': 75, 'which': 76, 'refreshing': 77, 'rare,': 78, 'but': 79, 'also': 80, 'succeeds': 81, 'large': 82, 'part': 83, 'making': 84, 'world': 85, 'washington': 86, 'insider': 87, 'accessible': 88, 'to': 89, 'general': 90, 'public.': 91, 'believe': 92, 'that': 93, 'book,': 94, 'unlike': 95, 'many': 96, 'others,': 97, 'will': 98, 'persuasive': 99, 'even': 100, 'who': 101, 'are': 102, 'already': 103, 'inclined': 104, 'think': 105, 'does.': 106, 'that,': 107, 'if': 108, 'you': 109, 'looking': 110, 'for': 111, 'book': 112, 'give': 113, 'some': 114, 'perspective': 115, 'on': 116, 'current': 117, 'do': 118, 'better': 119, 'than': 120, 'begin': 121, 'here.': 122, 'looks': 123, 'nice': 124, 'too': 125, 'big:': 126, 'well': 127, 'made,': 128, 'case': 129, 'far': 130, 'an': 131, 'r507.': 132, 'putting': 133, 'camera': 134, 'practically': 135, 'doubles': 136, 'size': 137, 'defeats': 138, 'purpose': 139, 'having': 140, 'small': 141, 'camera.': 142, 'suspect': 143, 'consequence': 144, 'fact': 145, 'designed': 146, 'fit': 147, 'so': 148, 'different': 149, 'cameras.': 150, 'returned': 151, 'it': 152, 'almost': 153, 'soon': 154, 'received': 155, 'purchased': 156, 'small,': 157, 'leather': 158, 'non-hp': 159, 'exactly': 160, 'very': 161, 'unstable,': 162, 'costly': 163, 'tech': 164, 'support:': 165, 'upgraded': 166, 'paperport': 167, '9': 168, 'wish': 169, 'had': 170, 'never': 171, 'made': 172, 'jump.': 173, 'was': 174, 'virtually': 175, 'trouble': 176, 'free,': 177, '11': 178, 'nightmare.': 179, 'freezes': 180, 'up': 181, 'less': 182, 'dozen': 183, 'times': 184, 'per': 185, 'day.': 186, 'support': 187, 'tell': 188, 'they': 189, 'have': 190, 'complaints': 191, 'find': 192, 'hard': 193, 'believe.': 194, 'only': 195, 'side': 196, 'there': 197, 'other': 198, 'program': 199, 'out': 200, 'does': 201, 'all': 202, 'do.': 203, 'what': 204, 'waste:': 205, 'waste': 206, 'money.': 207, 'cd': 208, 'misleading...': 209, 'produced': 210, 'over': 211, '10': 212, 'years': 213, 'ago': 214, \"doesn't\": 215, 'sound': 216, 'good': 217, 'at': 218, 'all.': 219}\n",
            "<class 'dict'>\n",
            "219\n"
          ],
          "name": "stdout"
        }
      ]
    },
    {
      "cell_type": "markdown",
      "metadata": {
        "id": "qIiiawbZTUkP",
        "colab_type": "text"
      },
      "source": [
        "2) Also, provide one-hot coding using Keras built-in function (listing 6.3).\n",
        "\n"
      ]
    },
    {
      "cell_type": "code",
      "metadata": {
        "id": "kQjWMYSKTXJg",
        "colab_type": "code",
        "colab": {}
      },
      "source": [
        "from keras.preprocessing.text import Tokenizer\n",
        "tokenizer = Tokenizer(num_words=50000)\n",
        "tokenizer.fit_on_texts(samples)\n",
        "sequences = tokenizer.texts_to_sequences(samples)\n",
        "one_hot_results = tokenizer.texts_to_matrix(samples, mode='binary')\n",
        "word_index = tokenizer.word_index\n"
      ],
      "execution_count": 0,
      "outputs": []
    },
    {
      "cell_type": "code",
      "metadata": {
        "id": "rPSwYpYATXMH",
        "colab_type": "code",
        "colab": {
          "base_uri": "https://localhost:8080/",
          "height": 92
        },
        "outputId": "6e3e489c-5c2d-43d9-b67f-0a07c9b3c748"
      },
      "source": [
        "print(word_index)\n",
        "print(type(word_index))\n",
        "print(len(word_index))\n"
      ],
      "execution_count": 421,
      "outputs": [
        {
          "output_type": "stream",
          "text": [
            "{'the': 1, 'is': 2, 'a': 3, 'and': 4, 'i': 5, 'of': 6, 'this': 7, 'to': 8, 'that': 9, 'it': 10, 'no': 11, 'in': 12, 'as': 13, 'but': 14, 'case': 15, 'camera': 16, 'one': 17, 'too': 18, 'will': 19, 'you': 20, 'action': 21, 'here': 22, 'well': 23, 'administration': 24, 'certainly': 25, 'creme': 26, 'not': 27, 'those': 28, 'can': 29, 'be': 30, 'dean': 31, 'around': 32, 'washington': 33, 'presidential': 34, 'from': 35, 'because': 36, 'he': 37, 'which': 38, 'large': 39, 'believe': 40, 'book': 41, 'many': 42, 'are': 43, 'think': 44, 'does': 45, 'looking': 46, 'for': 47, 'do': 48, 'than': 49, 'nice': 50, 'made': 51, 'size': 52, 'small': 53, 'tech': 54, 'support': 55, '9': 56, 'had': 57, 'was': 58, 'up': 59, 'there': 60, 'all': 61, 'what': 62, 'waste': 63, 'superb': 64, 'cast': 65, 'acting': 66, 'talent': 67, 'lots': 68, 'drama': 69, 'enjoy': 70, 'did': 71, 'best': 72, 'bunch': 73, 'myriad': 74, 'books': 75, 'about': 76, 'bush': 77, 'among': 78, 'de': 79, 'la': 80, 'screed': 81, 'by': 82, 'reporter': 83, 'pundit': 84, 'or': 85, 'commentator': 86, 'although': 87, 'fun': 88, 'knows': 89, 'his': 90, 'way': 91, 'white': 92, 'house': 93, 'indeed': 94, 'republican': 95, 'administrations': 96, 'personal': 97, 'experience': 98, \"dean's\": 99, 'writing': 100, 'engaging': 101, 'effective': 102, 'both': 103, 'pulls': 104, 'punches': 105, 'refreshing': 106, 'rare': 107, 'also': 108, 'succeeds': 109, 'part': 110, 'making': 111, 'world': 112, 'insider': 113, 'accessible': 114, 'general': 115, 'public': 116, 'unlike': 117, 'others': 118, 'persuasive': 119, 'even': 120, 'who': 121, 'already': 122, 'inclined': 123, 'if': 124, 'give': 125, 'some': 126, 'perspective': 127, 'on': 128, 'current': 129, 'better': 130, 'begin': 131, 'looks': 132, 'big': 133, 'far': 134, 'an': 135, 'r507': 136, 'putting': 137, 'practically': 138, 'doubles': 139, 'defeats': 140, 'purpose': 141, 'having': 142, 'suspect': 143, 'consequence': 144, 'fact': 145, 'designed': 146, 'fit': 147, 'so': 148, 'different': 149, 'cameras': 150, 'returned': 151, 'almost': 152, 'soon': 153, 'received': 154, 'purchased': 155, 'leather': 156, 'non': 157, 'hp': 158, 'exactly': 159, 'very': 160, 'unstable': 161, 'costly': 162, 'upgraded': 163, 'paperport': 164, 'wish': 165, 'never': 166, 'jump': 167, 'virtually': 168, 'trouble': 169, 'free': 170, '11': 171, 'nightmare': 172, 'freezes': 173, 'less': 174, 'dozen': 175, 'times': 176, 'per': 177, 'day': 178, 'tell': 179, 'they': 180, 'have': 181, 'complaints': 182, 'find': 183, 'hard': 184, 'only': 185, 'side': 186, 'other': 187, 'program': 188, 'out': 189, 'money': 190, 'cd': 191, 'misleading': 192, 'produced': 193, 'over': 194, '10': 195, 'years': 196, 'ago': 197, \"doesn't\": 198, 'sound': 199, 'good': 200, 'at': 201}\n",
            "<class 'dict'>\n",
            "201\n"
          ],
          "name": "stdout"
        }
      ]
    },
    {
      "cell_type": "markdown",
      "metadata": {
        "id": "N7nnfXjbTUmx",
        "colab_type": "text"
      },
      "source": [
        "3) provide one-hot coding with hashing (listing 6.4)"
      ]
    },
    {
      "cell_type": "code",
      "metadata": {
        "id": "ZyFn0Q4JTZwM",
        "colab_type": "code",
        "colab": {}
      },
      "source": [
        "dimensionality = 1000\n",
        "max_length = 250 # max words in 1st sample\n",
        "results = np.zeros((len(samples), max_length, dimensionality))\n",
        "for i, sample in enumerate(samples):\n",
        "  for j, word in list(enumerate(sample.split()))[:max_length]:\n",
        "    index = abs(hash(word)) % dimensionality\n",
        "    results[i, j, index] = 1."
      ],
      "execution_count": 0,
      "outputs": []
    },
    {
      "cell_type": "code",
      "metadata": {
        "id": "20USU6IoTZzD",
        "colab_type": "code",
        "colab": {
          "base_uri": "https://localhost:8080/",
          "height": 35
        },
        "outputId": "7c6f3b65-99b5-4012-f9ad-c6122c5da740"
      },
      "source": [
        "results.shape"
      ],
      "execution_count": 423,
      "outputs": [
        {
          "output_type": "execute_result",
          "data": {
            "text/plain": [
              "(5, 250, 1000)"
            ]
          },
          "metadata": {
            "tags": []
          },
          "execution_count": 423
        }
      ]
    },
    {
      "cell_type": "code",
      "metadata": {
        "id": "zmWdMOjaYo9H",
        "colab_type": "code",
        "colab": {
          "base_uri": "https://localhost:8080/",
          "height": 513
        },
        "outputId": "65c8d896-968f-4b3d-b961-4716424f1a44"
      },
      "source": [
        "results[0,72,0:450]"
      ],
      "execution_count": 424,
      "outputs": [
        {
          "output_type": "execute_result",
          "data": {
            "text/plain": [
              "array([0., 0., 0., 0., 0., 0., 0., 0., 0., 0., 0., 0., 0., 0., 0., 0., 0.,\n",
              "       0., 0., 0., 0., 0., 0., 0., 0., 0., 0., 0., 0., 0., 0., 0., 0., 0.,\n",
              "       0., 0., 0., 0., 0., 0., 0., 0., 0., 0., 0., 0., 0., 0., 0., 0., 0.,\n",
              "       0., 0., 0., 0., 0., 0., 0., 0., 0., 0., 0., 0., 0., 0., 0., 0., 0.,\n",
              "       0., 0., 0., 0., 0., 0., 0., 0., 0., 0., 0., 0., 0., 0., 0., 0., 0.,\n",
              "       0., 0., 0., 0., 0., 0., 0., 0., 0., 0., 0., 0., 0., 0., 0., 0., 0.,\n",
              "       0., 0., 0., 0., 0., 0., 0., 0., 0., 0., 0., 0., 0., 0., 0., 0., 0.,\n",
              "       0., 0., 0., 0., 0., 0., 0., 0., 0., 0., 0., 0., 0., 0., 0., 0., 0.,\n",
              "       0., 0., 0., 0., 0., 0., 0., 0., 0., 0., 0., 0., 0., 0., 0., 0., 0.,\n",
              "       0., 0., 0., 0., 0., 0., 0., 0., 0., 0., 0., 0., 0., 0., 0., 0., 0.,\n",
              "       0., 0., 0., 0., 0., 0., 0., 0., 0., 0., 0., 0., 0., 0., 0., 0., 0.,\n",
              "       0., 0., 0., 0., 0., 0., 0., 0., 0., 0., 0., 0., 0., 0., 0., 0., 0.,\n",
              "       0., 0., 0., 0., 0., 0., 0., 0., 0., 0., 0., 0., 0., 0., 0., 0., 0.,\n",
              "       0., 0., 0., 0., 0., 0., 0., 0., 0., 0., 0., 0., 0., 0., 0., 0., 0.,\n",
              "       0., 0., 0., 0., 0., 0., 0., 0., 0., 0., 0., 0., 0., 0., 0., 0., 0.,\n",
              "       0., 0., 0., 0., 0., 0., 0., 0., 0., 0., 0., 0., 0., 0., 0., 0., 0.,\n",
              "       0., 0., 0., 0., 0., 0., 0., 0., 0., 0., 0., 0., 0., 0., 0., 0., 0.,\n",
              "       0., 0., 0., 0., 0., 0., 0., 0., 0., 0., 0., 0., 0., 0., 0., 0., 0.,\n",
              "       0., 0., 0., 0., 0., 0., 0., 0., 0., 0., 0., 0., 0., 0., 0., 0., 0.,\n",
              "       0., 0., 0., 0., 0., 0., 0., 0., 0., 0., 0., 0., 0., 0., 0., 0., 0.,\n",
              "       0., 0., 0., 0., 0., 0., 0., 0., 0., 0., 0., 0., 0., 0., 0., 0., 0.,\n",
              "       0., 0., 0., 0., 0., 0., 0., 0., 0., 0., 0., 0., 0., 0., 0., 0., 0.,\n",
              "       0., 0., 0., 0., 0., 0., 0., 0., 0., 0., 0., 0., 0., 0., 0., 0., 0.,\n",
              "       0., 0., 0., 0., 0., 0., 0., 0., 0., 0., 0., 0., 0., 0., 0., 0., 0.,\n",
              "       0., 0., 0., 0., 0., 0., 0., 0., 0., 0., 0., 0., 0., 0., 0., 0., 0.,\n",
              "       0., 0., 0., 0., 0., 0., 0., 0., 0., 0., 0., 0., 0., 0., 0., 0., 0.,\n",
              "       0., 0., 0., 0., 0., 0., 0., 0.])"
            ]
          },
          "metadata": {
            "tags": []
          },
          "execution_count": 424
        }
      ]
    },
    {
      "cell_type": "code",
      "metadata": {
        "id": "DdYlAaByZoAA",
        "colab_type": "code",
        "colab": {
          "base_uri": "https://localhost:8080/",
          "height": 348
        },
        "outputId": "9ce4eff6-13f8-4ae7-e62a-508fab0ce58a"
      },
      "source": [
        "results[0,72,200:500]"
      ],
      "execution_count": 425,
      "outputs": [
        {
          "output_type": "execute_result",
          "data": {
            "text/plain": [
              "array([0., 0., 0., 0., 0., 0., 0., 0., 0., 0., 0., 0., 0., 0., 0., 0., 0.,\n",
              "       0., 0., 0., 0., 0., 0., 0., 0., 0., 0., 0., 0., 0., 0., 0., 0., 0.,\n",
              "       0., 0., 0., 0., 0., 0., 0., 0., 0., 0., 0., 0., 0., 0., 0., 0., 0.,\n",
              "       0., 0., 0., 0., 0., 0., 0., 0., 0., 0., 0., 0., 0., 0., 0., 0., 0.,\n",
              "       0., 0., 0., 0., 0., 0., 0., 0., 0., 0., 0., 0., 0., 0., 0., 0., 0.,\n",
              "       0., 0., 0., 0., 0., 0., 0., 0., 0., 0., 0., 0., 0., 0., 0., 0., 0.,\n",
              "       0., 0., 0., 0., 0., 0., 0., 0., 0., 0., 0., 0., 0., 0., 0., 0., 0.,\n",
              "       0., 0., 0., 0., 0., 0., 0., 0., 0., 0., 0., 0., 0., 0., 0., 0., 0.,\n",
              "       0., 0., 0., 0., 0., 0., 0., 0., 0., 0., 0., 0., 0., 0., 0., 0., 0.,\n",
              "       0., 0., 0., 0., 0., 0., 0., 0., 0., 0., 0., 0., 0., 0., 0., 0., 0.,\n",
              "       0., 0., 0., 0., 0., 0., 0., 0., 0., 0., 0., 0., 0., 0., 0., 0., 0.,\n",
              "       0., 0., 0., 0., 0., 0., 0., 0., 0., 0., 0., 0., 0., 0., 0., 0., 0.,\n",
              "       0., 0., 0., 0., 0., 0., 0., 0., 0., 0., 0., 0., 0., 0., 0., 0., 0.,\n",
              "       0., 0., 0., 0., 0., 0., 0., 0., 0., 0., 0., 0., 0., 0., 0., 0., 0.,\n",
              "       0., 0., 0., 0., 0., 0., 0., 0., 0., 0., 0., 0., 0., 0., 0., 0., 0.,\n",
              "       0., 0., 0., 0., 0., 0., 0., 0., 0., 0., 0., 0., 0., 0., 0., 0., 0.,\n",
              "       0., 0., 0., 0., 0., 0., 0., 0., 0., 0., 0., 0., 0., 0., 0., 0., 0.,\n",
              "       0., 0., 0., 0., 0., 0., 0., 0., 0., 0., 0.])"
            ]
          },
          "metadata": {
            "tags": []
          },
          "execution_count": 425
        }
      ]
    },
    {
      "cell_type": "markdown",
      "metadata": {
        "id": "0xzwoNU4aby1",
        "colab_type": "text"
      },
      "source": [
        "4) Validate the how much they are similar. Try to maximize the similarity (ideally should be 100% the same). Specify the reason if both are not the same.\n",
        "\n"
      ]
    },
    {
      "cell_type": "code",
      "metadata": {
        "id": "WSsgmJ0-agFy",
        "colab_type": "code",
        "colab": {}
      },
      "source": [
        "# output of book 6.1 & 6.3 are pretty much similar because i sort whole code to .lower() so most problem solved here. Because in 6.1 code it take (The & THE & the) all as differnt word but 6.3 (The & THE & the) all are same word \n",
        "# 2nd problem for difference b/w both is in 6.1 it take (stop. & stop.: & stop.') all as different 3 words but in 6.3 all are count as stop & become 1 word as output also attach above search though ctrl+f shows result"
      ],
      "execution_count": 0,
      "outputs": []
    },
    {
      "cell_type": "markdown",
      "metadata": {
        "id": "AsEZqwcrc5Gd",
        "colab_type": "text"
      },
      "source": [
        "5) Try to implement word-embedding using code given in listing (6.7) and shared with me the embedding array as well as the word dictionary."
      ]
    },
    {
      "cell_type": "code",
      "metadata": {
        "id": "8MmmssBNkVPV",
        "colab_type": "code",
        "colab": {
          "base_uri": "https://localhost:8080/",
          "height": 72
        },
        "outputId": "9f45e3af-a555-4686-b37e-e779d164bd21"
      },
      "source": [
        "from keras.preprocessing.text import Tokenizer\n",
        "from keras.preprocessing.sequence import pad_sequences\n",
        "import numpy as np\n",
        "\n",
        "maxlen = 250\n",
        "max_words = 25000\n",
        "tokenizer = Tokenizer(num_words=max_words)\n",
        "tokenizer.fit_on_texts(data_train)\n",
        "sequences = tokenizer.texts_to_sequences(data_train)\n",
        "word_index = tokenizer.word_index\n",
        "print('Found %s unique tokens.' % len(word_index))\n",
        "data = pad_sequences(sequences, maxlen=maxlen)\n",
        "labels = np.asarray(label_train)\n",
        "print('Shape of data tensor:', type(data))\n",
        "print('Shape of label tensor:', type(labels))\n"
      ],
      "execution_count": 435,
      "outputs": [
        {
          "output_type": "stream",
          "text": [
            "Found 73589 unique tokens.\n",
            "Shape of data tensor: <class 'numpy.ndarray'>\n",
            "Shape of label tensor: <class 'numpy.ndarray'>\n"
          ],
          "name": "stdout"
        }
      ]
    },
    {
      "cell_type": "code",
      "metadata": {
        "id": "Z8HZ6a5OAKY7",
        "colab_type": "code",
        "colab": {
          "base_uri": "https://localhost:8080/",
          "height": 146
        },
        "outputId": "c52bce79-7dcb-4c39-de9b-89c0354cf8f2"
      },
      "source": [
        "data[0:100]"
      ],
      "execution_count": 437,
      "outputs": [
        {
          "output_type": "execute_result",
          "data": {
            "text/plain": [
              "array([[   0,    0,    0, ...,  100,   22,   67],\n",
              "       [   0,    0,    0, ...,    5, 1257,  206],\n",
              "       [   0,    0,    0, ...,    7,    1,  454],\n",
              "       ...,\n",
              "       [   0,    0,    0, ...,   18,  173,  732],\n",
              "       [   0,    0,    0, ...,  169,  161,  271],\n",
              "       [   0,    0,    0, ...,    1,  794,  583]], dtype=int32)"
            ]
          },
          "metadata": {
            "tags": []
          },
          "execution_count": 437
        }
      ]
    },
    {
      "cell_type": "code",
      "metadata": {
        "id": "m7Q77V5rxvRu",
        "colab_type": "code",
        "colab": {
          "base_uri": "https://localhost:8080/",
          "height": 90
        },
        "outputId": "eff40d71-d878-4a56-98d5-ee7cff0396b9"
      },
      "source": [
        "from sklearn.model_selection import train_test_split\n",
        "\n",
        "x_train, x_test, y_train, y_test = train_test_split(data,labels)\n",
        "\n",
        "print(\"x_train :\",x_train.shape)\n",
        "print(\"x_test :\",x_test.shape)\n",
        "print(\"y_train :\",y_train.shape)\n",
        "print(\"y_test :\",y_test.shape)"
      ],
      "execution_count": 438,
      "outputs": [
        {
          "output_type": "stream",
          "text": [
            "x_train : (27000, 250)\n",
            "x_test : (9000, 250)\n",
            "y_train : (27000,)\n",
            "y_test : (9000,)\n"
          ],
          "name": "stdout"
        }
      ]
    },
    {
      "cell_type": "code",
      "metadata": {
        "id": "S3A0r1PtwkhL",
        "colab_type": "code",
        "colab": {
          "base_uri": "https://localhost:8080/",
          "height": 55
        },
        "outputId": "f2e6a648-9166-4478-c707-fdd5c42f7333"
      },
      "source": [
        "print(sequences[0:10])"
      ],
      "execution_count": 429,
      "outputs": [
        {
          "output_type": "stream",
          "text": [
            "[[21, 64, 65, 4, 66, 67, 22, 68, 6, 21, 4, 69, 12, 7, 17, 70, 10, 5, 71, 13, 23], [72, 6, 1, 73, 6, 1, 74, 75, 76, 1, 77, 24, 7, 17, 2, 25, 78, 1, 26, 79, 80, 26, 7, 2, 27, 3, 81, 82, 3, 83, 84, 85, 86, 87, 28, 29, 30, 88, 18, 31, 89, 90, 91, 32, 33, 4, 1, 92, 93, 4, 94, 32, 95, 34, 96, 35, 97, 98, 99, 100, 2, 101, 4, 102, 103, 36, 37, 104, 11, 105, 38, 2, 106, 4, 107, 14, 108, 36, 37, 109, 12, 39, 110, 12, 111, 1, 112, 6, 1, 33, 113, 114, 8, 1, 115, 116, 5, 40, 9, 7, 41, 117, 42, 118, 19, 30, 119, 120, 8, 28, 121, 43, 27, 122, 123, 8, 44, 13, 31, 45, 5, 25, 44, 9, 124, 20, 43, 46, 47, 3, 41, 8, 125, 126, 127, 128, 1, 129, 34, 24, 20, 29, 48, 11, 130, 49, 8, 131, 22], [132, 50, 14, 18, 133, 3, 23, 51, 50, 46, 15, 14, 134, 18, 39, 47, 135, 136, 137, 1, 16, 12, 7, 15, 138, 139, 1, 52, 6, 1, 16, 4, 140, 1, 141, 6, 142, 3, 53, 16, 5, 143, 7, 2, 3, 144, 6, 1, 145, 9, 7, 15, 2, 146, 8, 147, 148, 42, 149, 150, 5, 151, 10, 152, 13, 153, 13, 5, 154, 10, 4, 155, 3, 53, 156, 157, 158, 15, 38, 2, 159, 1, 52, 6, 1, 16], [160, 161, 162, 54, 55, 5, 163, 35, 164, 56, 4, 5, 165, 5, 57, 166, 51, 1, 167, 56, 58, 168, 169, 170, 171, 2, 3, 172, 10, 173, 59, 11, 174, 49, 3, 175, 176, 177, 178, 54, 55, 19, 179, 20, 9, 180, 181, 57, 11, 182, 14, 5, 183, 9, 184, 8, 40, 1, 185, 59, 186, 2, 9, 60, 2, 11, 187, 188, 189, 60, 9, 45, 61, 7, 17, 19, 48], [62, 3, 63, 62, 3, 63, 6, 190, 1, 191, 2, 192, 10, 58, 193, 194, 195, 196, 197, 4, 198, 199, 200, 201, 61]]\n"
          ],
          "name": "stdout"
        }
      ]
    },
    {
      "cell_type": "code",
      "metadata": {
        "id": "RP8cPCiduagL",
        "colab_type": "code",
        "colab": {
          "base_uri": "https://localhost:8080/",
          "height": 1000
        },
        "outputId": "af48cfc8-c746-4a77-d4a2-3bbec036a0d3"
      },
      "source": [
        "print('Found %s unique tokens.' % len(word_index))\n",
        "import itertools\n",
        "out = dict(itertools.islice(word_index.items(), 500))\n",
        "out  "
      ],
      "execution_count": 430,
      "outputs": [
        {
          "output_type": "stream",
          "text": [
            "Found 201 unique tokens.\n"
          ],
          "name": "stdout"
        },
        {
          "output_type": "execute_result",
          "data": {
            "text/plain": [
              "{'10': 195,\n",
              " '11': 171,\n",
              " '9': 56,\n",
              " 'a': 3,\n",
              " 'about': 76,\n",
              " 'accessible': 114,\n",
              " 'acting': 66,\n",
              " 'action': 21,\n",
              " 'administration': 24,\n",
              " 'administrations': 96,\n",
              " 'ago': 197,\n",
              " 'all': 61,\n",
              " 'almost': 152,\n",
              " 'already': 122,\n",
              " 'also': 108,\n",
              " 'although': 87,\n",
              " 'among': 78,\n",
              " 'an': 135,\n",
              " 'and': 4,\n",
              " 'are': 43,\n",
              " 'around': 32,\n",
              " 'as': 13,\n",
              " 'at': 201,\n",
              " 'be': 30,\n",
              " 'because': 36,\n",
              " 'begin': 131,\n",
              " 'believe': 40,\n",
              " 'best': 72,\n",
              " 'better': 130,\n",
              " 'big': 133,\n",
              " 'book': 41,\n",
              " 'books': 75,\n",
              " 'both': 103,\n",
              " 'bunch': 73,\n",
              " 'bush': 77,\n",
              " 'but': 14,\n",
              " 'by': 82,\n",
              " 'camera': 16,\n",
              " 'cameras': 150,\n",
              " 'can': 29,\n",
              " 'case': 15,\n",
              " 'cast': 65,\n",
              " 'cd': 191,\n",
              " 'certainly': 25,\n",
              " 'commentator': 86,\n",
              " 'complaints': 182,\n",
              " 'consequence': 144,\n",
              " 'costly': 162,\n",
              " 'creme': 26,\n",
              " 'current': 129,\n",
              " 'day': 178,\n",
              " 'de': 79,\n",
              " 'dean': 31,\n",
              " \"dean's\": 99,\n",
              " 'defeats': 140,\n",
              " 'designed': 146,\n",
              " 'did': 71,\n",
              " 'different': 149,\n",
              " 'do': 48,\n",
              " 'does': 45,\n",
              " \"doesn't\": 198,\n",
              " 'doubles': 139,\n",
              " 'dozen': 175,\n",
              " 'drama': 69,\n",
              " 'effective': 102,\n",
              " 'engaging': 101,\n",
              " 'enjoy': 70,\n",
              " 'even': 120,\n",
              " 'exactly': 159,\n",
              " 'experience': 98,\n",
              " 'fact': 145,\n",
              " 'far': 134,\n",
              " 'find': 183,\n",
              " 'fit': 147,\n",
              " 'for': 47,\n",
              " 'free': 170,\n",
              " 'freezes': 173,\n",
              " 'from': 35,\n",
              " 'fun': 88,\n",
              " 'general': 115,\n",
              " 'give': 125,\n",
              " 'good': 200,\n",
              " 'had': 57,\n",
              " 'hard': 184,\n",
              " 'have': 181,\n",
              " 'having': 142,\n",
              " 'he': 37,\n",
              " 'here': 22,\n",
              " 'his': 90,\n",
              " 'house': 93,\n",
              " 'hp': 158,\n",
              " 'i': 5,\n",
              " 'if': 124,\n",
              " 'in': 12,\n",
              " 'inclined': 123,\n",
              " 'indeed': 94,\n",
              " 'insider': 113,\n",
              " 'is': 2,\n",
              " 'it': 10,\n",
              " 'jump': 167,\n",
              " 'knows': 89,\n",
              " 'la': 80,\n",
              " 'large': 39,\n",
              " 'leather': 156,\n",
              " 'less': 174,\n",
              " 'looking': 46,\n",
              " 'looks': 132,\n",
              " 'lots': 68,\n",
              " 'made': 51,\n",
              " 'making': 111,\n",
              " 'many': 42,\n",
              " 'misleading': 192,\n",
              " 'money': 190,\n",
              " 'myriad': 74,\n",
              " 'never': 166,\n",
              " 'nice': 50,\n",
              " 'nightmare': 172,\n",
              " 'no': 11,\n",
              " 'non': 157,\n",
              " 'not': 27,\n",
              " 'of': 6,\n",
              " 'on': 128,\n",
              " 'one': 17,\n",
              " 'only': 185,\n",
              " 'or': 85,\n",
              " 'other': 187,\n",
              " 'others': 118,\n",
              " 'out': 189,\n",
              " 'over': 194,\n",
              " 'paperport': 164,\n",
              " 'part': 110,\n",
              " 'per': 177,\n",
              " 'personal': 97,\n",
              " 'perspective': 127,\n",
              " 'persuasive': 119,\n",
              " 'practically': 138,\n",
              " 'presidential': 34,\n",
              " 'produced': 193,\n",
              " 'program': 188,\n",
              " 'public': 116,\n",
              " 'pulls': 104,\n",
              " 'punches': 105,\n",
              " 'pundit': 84,\n",
              " 'purchased': 155,\n",
              " 'purpose': 141,\n",
              " 'putting': 137,\n",
              " 'r507': 136,\n",
              " 'rare': 107,\n",
              " 'received': 154,\n",
              " 'refreshing': 106,\n",
              " 'reporter': 83,\n",
              " 'republican': 95,\n",
              " 'returned': 151,\n",
              " 'screed': 81,\n",
              " 'side': 186,\n",
              " 'size': 52,\n",
              " 'small': 53,\n",
              " 'so': 148,\n",
              " 'some': 126,\n",
              " 'soon': 153,\n",
              " 'sound': 199,\n",
              " 'succeeds': 109,\n",
              " 'superb': 64,\n",
              " 'support': 55,\n",
              " 'suspect': 143,\n",
              " 'talent': 67,\n",
              " 'tech': 54,\n",
              " 'tell': 179,\n",
              " 'than': 49,\n",
              " 'that': 9,\n",
              " 'the': 1,\n",
              " 'there': 60,\n",
              " 'they': 180,\n",
              " 'think': 44,\n",
              " 'this': 7,\n",
              " 'those': 28,\n",
              " 'times': 176,\n",
              " 'to': 8,\n",
              " 'too': 18,\n",
              " 'trouble': 169,\n",
              " 'unlike': 117,\n",
              " 'unstable': 161,\n",
              " 'up': 59,\n",
              " 'upgraded': 163,\n",
              " 'very': 160,\n",
              " 'virtually': 168,\n",
              " 'was': 58,\n",
              " 'washington': 33,\n",
              " 'waste': 63,\n",
              " 'way': 91,\n",
              " 'well': 23,\n",
              " 'what': 62,\n",
              " 'which': 38,\n",
              " 'white': 92,\n",
              " 'who': 121,\n",
              " 'will': 19,\n",
              " 'wish': 165,\n",
              " 'world': 112,\n",
              " 'writing': 100,\n",
              " 'years': 196,\n",
              " 'you': 20}"
            ]
          },
          "metadata": {
            "tags": []
          },
          "execution_count": 430
        }
      ]
    },
    {
      "cell_type": "code",
      "metadata": {
        "id": "I8H0SzW0c0rD",
        "colab_type": "code",
        "colab": {
          "base_uri": "https://localhost:8080/",
          "height": 274
        },
        "outputId": "52055500-1c42-47e8-87d8-4a7766f6c9d1"
      },
      "source": [
        "from keras.layers import Embedding\n",
        "from keras.models import Sequential\n",
        "from keras.layers import Flatten, Dense\n",
        "model = Sequential()\n",
        "model.add(Embedding(25000, 100, input_length=maxlen))\n",
        "model.add(Flatten())\n",
        "model.add(Dense(1, activation='sigmoid'))\n",
        "model.compile(optimizer='rmsprop', loss='binary_crossentropy', metrics=['acc'])\n",
        "model.summary()\n"
      ],
      "execution_count": 443,
      "outputs": [
        {
          "output_type": "stream",
          "text": [
            "Model: \"sequential_18\"\n",
            "_________________________________________________________________\n",
            "Layer (type)                 Output Shape              Param #   \n",
            "=================================================================\n",
            "embedding_18 (Embedding)     (None, 250, 100)          2500000   \n",
            "_________________________________________________________________\n",
            "flatten_17 (Flatten)         (None, 25000)             0         \n",
            "_________________________________________________________________\n",
            "dense_17 (Dense)             (None, 1)                 25001     \n",
            "=================================================================\n",
            "Total params: 2,525,001\n",
            "Trainable params: 2,525,001\n",
            "Non-trainable params: 0\n",
            "_________________________________________________________________\n"
          ],
          "name": "stdout"
        }
      ]
    },
    {
      "cell_type": "code",
      "metadata": {
        "id": "hJTU-NwZdGin",
        "colab_type": "code",
        "colab": {
          "base_uri": "https://localhost:8080/",
          "height": 459
        },
        "outputId": "94d89520-d3bd-49bf-84f0-c7f57adb1a02"
      },
      "source": [
        "\n",
        "history = model.fit(x_train,y_train,\n",
        "epochs=10,\n",
        "batch_size=32,\n",
        "validation_split=0.2)"
      ],
      "execution_count": 444,
      "outputs": [
        {
          "output_type": "stream",
          "text": [
            "/usr/local/lib/python3.6/dist-packages/tensorflow/python/framework/indexed_slices.py:434: UserWarning: Converting sparse IndexedSlices to a dense Tensor of unknown shape. This may consume a large amount of memory.\n",
            "  \"Converting sparse IndexedSlices to a dense Tensor of unknown shape. \"\n"
          ],
          "name": "stderr"
        },
        {
          "output_type": "stream",
          "text": [
            "Train on 21600 samples, validate on 5400 samples\n",
            "Epoch 1/10\n",
            "21600/21600 [==============================] - 22s 1ms/step - loss: 0.4467 - acc: 0.7886 - val_loss: 0.3114 - val_acc: 0.8702\n",
            "Epoch 2/10\n",
            "21600/21600 [==============================] - 22s 1ms/step - loss: 0.2355 - acc: 0.9076 - val_loss: 0.2884 - val_acc: 0.8828\n",
            "Epoch 3/10\n",
            "21600/21600 [==============================] - 22s 1ms/step - loss: 0.1577 - acc: 0.9423 - val_loss: 0.3088 - val_acc: 0.8833\n",
            "Epoch 4/10\n",
            "21600/21600 [==============================] - 22s 1ms/step - loss: 0.0946 - acc: 0.9715 - val_loss: 0.3318 - val_acc: 0.8754\n",
            "Epoch 5/10\n",
            "21600/21600 [==============================] - 22s 1ms/step - loss: 0.0517 - acc: 0.9865 - val_loss: 0.3683 - val_acc: 0.8722\n",
            "Epoch 6/10\n",
            "21600/21600 [==============================] - 22s 1ms/step - loss: 0.0260 - acc: 0.9939 - val_loss: 0.4024 - val_acc: 0.8739\n",
            "Epoch 7/10\n",
            "21600/21600 [==============================] - 22s 1ms/step - loss: 0.0129 - acc: 0.9967 - val_loss: 0.4442 - val_acc: 0.8733\n",
            "Epoch 8/10\n",
            "21600/21600 [==============================] - 21s 993us/step - loss: 0.0061 - acc: 0.9987 - val_loss: 0.5099 - val_acc: 0.8665\n",
            "Epoch 9/10\n",
            "21600/21600 [==============================] - 21s 995us/step - loss: 0.0030 - acc: 0.9993 - val_loss: 0.5627 - val_acc: 0.8643\n",
            "Epoch 10/10\n",
            "21600/21600 [==============================] - 22s 1ms/step - loss: 0.0016 - acc: 0.9997 - val_loss: 0.6235 - val_acc: 0.8613\n"
          ],
          "name": "stdout"
        }
      ]
    },
    {
      "cell_type": "code",
      "metadata": {
        "id": "MtTrIDPMdERu",
        "colab_type": "code",
        "colab": {}
      },
      "source": [
        "model.save_weights('pre_trained_glove_model.h5')\n"
      ],
      "execution_count": 0,
      "outputs": []
    },
    {
      "cell_type": "code",
      "metadata": {
        "id": "dbSslJB5rg_Z",
        "colab_type": "code",
        "colab": {
          "base_uri": "https://localhost:8080/",
          "height": 545
        },
        "outputId": "3a67a3df-5fad-491d-e335-3bc4148cd12b"
      },
      "source": [
        "import matplotlib.pyplot as plt\n",
        "acc = history.history['acc']\n",
        "val_acc = history.history['val_acc']\n",
        "loss = history.history['loss']\n",
        "val_loss = history.history['val_loss']\n",
        "epochs = range(1, len(acc) + 1)\n",
        "plt.plot(epochs, acc, 'bo', label='Training acc')\n",
        "plt.plot(epochs, val_acc, 'b', label='Validation acc')\n",
        "plt.title('Training and validation accuracy')\n",
        "plt.legend()\n",
        "plt.figure()\n",
        "plt.plot(epochs, loss, 'bo', label='Training loss')\n",
        "plt.plot(epochs, val_loss, 'b', label='Validation loss')\n",
        "plt.title('Training and validation loss')\n",
        "plt.legend()\n",
        "plt.show()"
      ],
      "execution_count": 446,
      "outputs": [
        {
          "output_type": "display_data",
          "data": {
            "image/png": "[encoded data removed]",
            "text/plain": [
              "<Figure size 432x288 with 1 Axes>"
            ]
          },
          "metadata": {
            "tags": [],
            "needs_background": "light"
          }
        },
        {
          "output_type": "display_data",
          "data": {
            "image/png": "[encoded data removed]",
            "text/plain": [
              "<Figure size 432x288 with 1 Axes>"
            ]
          },
          "metadata": {
            "tags": [],
            "needs_background": "light"
          }
        }
      ]
    },
    {
      "cell_type": "code",
      "metadata": {
        "id": "zCfGIQNWrhD2",
        "colab_type": "code",
        "colab": {
          "base_uri": "https://localhost:8080/",
          "height": 72
        },
        "outputId": "8cd533dd-0779-4da8-8fee-5f581571d17f"
      },
      "source": [
        "evaluation = model.evaluate(x_test,  y_test,batch_size=32, verbose=2)\n",
        "print()\n",
        "print(\"Test loss :\",evaluation[0]*100,\"%\")\n",
        "print(\"Test accuracy :\",evaluation[1]*100,\"%\")"
      ],
      "execution_count": 447,
      "outputs": [
        {
          "output_type": "stream",
          "text": [
            "\n",
            "Test loss : 58.271395697361896 %\n",
            "Test accuracy : 85.84444522857666 %\n"
          ],
          "name": "stdout"
        }
      ]
    },
    {
      "cell_type": "markdown",
      "metadata": {
        "id": "FlMbWlOAKl46",
        "colab_type": "text"
      },
      "source": [
        "6) From 6.8 code pre-trained word-embeddings"
      ]
    },
    {
      "cell_type": "code",
      "metadata": {
        "id": "gKgPvPwVrhKc",
        "colab_type": "code",
        "colab": {
          "base_uri": "https://localhost:8080/",
          "height": 35
        },
        "outputId": "459b2105-6a7c-4585-9865-0b1aead6a98b"
      },
      "source": [
        "import os\n",
        "glove_dir = '/content/drive/My Drive/glove'\n",
        "embeddings_index = {}\n",
        "f = open(os.path.join(glove_dir, 'glove.6B.100d.txt'))\n",
        "for line in f:\n",
        "  values = line.split()\n",
        "  word = values[0]\n",
        "  coefs = np.asarray(values[1:], dtype='float32')\n",
        "  embeddings_index[word] = coefs\n",
        "f.close()\n",
        "print('Found %s word vectors.' % len(embeddings_index))"
      ],
      "execution_count": 449,
      "outputs": [
        {
          "output_type": "stream",
          "text": [
            "Found 400000 word vectors.\n"
          ],
          "name": "stdout"
        }
      ]
    },
    {
      "cell_type": "code",
      "metadata": {
        "id": "4RKUlEdKrhNn",
        "colab_type": "code",
        "colab": {}
      },
      "source": [
        "embedding_dim = 100\n",
        "embedding_matrix = np.zeros((max_words, embedding_dim))\n",
        "for word, i in word_index.items():\n",
        "  if i < max_words:\n",
        "    embedding_vector = embeddings_index.get(word)\n",
        "    if embedding_vector is not None:\n",
        "        embedding_matrix[i] = embedding_vector"
      ],
      "execution_count": 0,
      "outputs": []
    },
    {
      "cell_type": "code",
      "metadata": {
        "id": "BT1YZLjhdET_",
        "colab_type": "code",
        "colab": {
          "base_uri": "https://localhost:8080/",
          "height": 311
        },
        "outputId": "fc361765-3310-48c9-c84f-de7dcb3726e4"
      },
      "source": [
        "from keras.models import Sequential\n",
        "from keras.layers import Embedding, Flatten, Dense\n",
        "model = Sequential()\n",
        "model.add(Embedding(25000, embedding_dim, input_length=maxlen))\n",
        "model.add(Flatten())\n",
        "model.add(Dense(32, activation='relu'))\n",
        "model.add(Dense(1, activation='sigmoid'))\n",
        "model.summary()"
      ],
      "execution_count": 451,
      "outputs": [
        {
          "output_type": "stream",
          "text": [
            "Model: \"sequential_19\"\n",
            "_________________________________________________________________\n",
            "Layer (type)                 Output Shape              Param #   \n",
            "=================================================================\n",
            "embedding_19 (Embedding)     (None, 250, 100)          2500000   \n",
            "_________________________________________________________________\n",
            "flatten_18 (Flatten)         (None, 25000)             0         \n",
            "_________________________________________________________________\n",
            "dense_18 (Dense)             (None, 32)                800032    \n",
            "_________________________________________________________________\n",
            "dense_19 (Dense)             (None, 1)                 33        \n",
            "=================================================================\n",
            "Total params: 3,300,065\n",
            "Trainable params: 3,300,065\n",
            "Non-trainable params: 0\n",
            "_________________________________________________________________\n"
          ],
          "name": "stdout"
        }
      ]
    },
    {
      "cell_type": "code",
      "metadata": {
        "id": "Cnr4tuh3q5Db",
        "colab_type": "code",
        "colab": {}
      },
      "source": [
        "model.layers[0].set_weights([embedding_matrix])\n",
        "model.layers[0].trainable = False"
      ],
      "execution_count": 0,
      "outputs": []
    },
    {
      "cell_type": "code",
      "metadata": {
        "id": "ypZA8HO-DE6i",
        "colab_type": "code",
        "colab": {
          "base_uri": "https://localhost:8080/",
          "height": 403
        },
        "outputId": "7f0291de-969f-4de9-caa6-57d6adae9ff8"
      },
      "source": [
        "model.compile(optimizer='rmsprop',loss='binary_crossentropy',metrics=['acc'])\n",
        "history = model.fit(x_train, y_train,epochs=10,batch_size=32,validation_split=0.2)\n",
        "model.save_weights('pre_trained_glove_model.h5')"
      ],
      "execution_count": 453,
      "outputs": [
        {
          "output_type": "stream",
          "text": [
            "Train on 21600 samples, validate on 5400 samples\n",
            "Epoch 1/10\n",
            "21600/21600 [==============================] - 8s 352us/step - loss: 0.6116 - acc: 0.6623 - val_loss: 0.5283 - val_acc: 0.7391\n",
            "Epoch 2/10\n",
            "21600/21600 [==============================] - 7s 345us/step - loss: 0.4663 - acc: 0.7794 - val_loss: 0.5386 - val_acc: 0.7239\n",
            "Epoch 3/10\n",
            "21600/21600 [==============================] - 8s 361us/step - loss: 0.3827 - acc: 0.8277 - val_loss: 0.5339 - val_acc: 0.7454\n",
            "Epoch 4/10\n",
            "21600/21600 [==============================] - 8s 350us/step - loss: 0.3279 - acc: 0.8579 - val_loss: 0.7020 - val_acc: 0.6994\n",
            "Epoch 5/10\n",
            "21600/21600 [==============================] - 7s 344us/step - loss: 0.2726 - acc: 0.8840 - val_loss: 0.6398 - val_acc: 0.7367\n",
            "Epoch 6/10\n",
            "21600/21600 [==============================] - 7s 343us/step - loss: 0.2198 - acc: 0.9093 - val_loss: 0.6896 - val_acc: 0.7493\n",
            "Epoch 7/10\n",
            "21600/21600 [==============================] - 7s 347us/step - loss: 0.1697 - acc: 0.9305 - val_loss: 0.8811 - val_acc: 0.7444\n",
            "Epoch 8/10\n",
            "21600/21600 [==============================] - 7s 346us/step - loss: 0.1264 - acc: 0.9513 - val_loss: 0.9674 - val_acc: 0.7359\n",
            "Epoch 9/10\n",
            "21600/21600 [==============================] - 7s 340us/step - loss: 0.0916 - acc: 0.9668 - val_loss: 0.9972 - val_acc: 0.7389\n",
            "Epoch 10/10\n",
            "21600/21600 [==============================] - 8s 351us/step - loss: 0.0661 - acc: 0.9754 - val_loss: 1.1782 - val_acc: 0.7306\n"
          ],
          "name": "stdout"
        }
      ]
    },
    {
      "cell_type": "code",
      "metadata": {
        "id": "8aqqw6HMDE9a",
        "colab_type": "code",
        "colab": {
          "base_uri": "https://localhost:8080/",
          "height": 545
        },
        "outputId": "2cc788f9-a0f9-43bc-87c2-d80883b86d27"
      },
      "source": [
        "import matplotlib.pyplot as plt\n",
        "acc = history.history['acc']\n",
        "val_acc = history.history['val_acc']\n",
        "loss = history.history['loss']\n",
        "val_loss = history.history['val_loss']\n",
        "epochs = range(1, len(acc) + 1)\n",
        "plt.plot(epochs, acc, 'bo', label='Training acc')\n",
        "plt.plot(epochs, val_acc, 'b', label='Validation acc')\n",
        "plt.title('Training and validation accuracy')\n",
        "plt.legend()\n",
        "plt.figure()\n",
        "plt.plot(epochs, loss, 'bo', label='Training loss')\n",
        "plt.plot(epochs, val_loss, 'b', label='Validation loss')\n",
        "plt.title('Training and validation loss')\n",
        "plt.legend()\n",
        "plt.show()"
      ],
      "execution_count": 454,
      "outputs": [
        {
          "output_type": "display_data",
          "data": {
            "image/png": "[encoded data removed]",
            "text/plain": [
              "<Figure size 432x288 with 1 Axes>"
            ]
          },
          "metadata": {
            "tags": [],
            "needs_background": "light"
          }
        },
        {
          "output_type": "display_data",
          "data": {
            "image/png": "[encoded data removed]",
            "text/plain": [
              "<Figure size 432x288 with 1 Axes>"
            ]
          },
          "metadata": {
            "tags": [],
            "needs_background": "light"
          }
        }
      ]
    },
    {
      "cell_type": "markdown",
      "metadata": {
        "id": "9VQjN8JIKhjG",
        "colab_type": "text"
      },
      "source": [
        "7) Apply RNN to the given text (listing 6.21) and provide output\n"
      ]
    },
    {
      "cell_type": "code",
      "metadata": {
        "id": "-suQbhB4JuTg",
        "colab_type": "code",
        "colab": {
          "base_uri": "https://localhost:8080/",
          "height": 459
        },
        "outputId": "7f2f4445-d533-4ccf-bddf-60a3352e4b06"
      },
      "source": [
        "from keras.layers import Dense\n",
        "model = Sequential()\n",
        "model.add(Embedding(25000, 100))\n",
        "model.add(SimpleRNN(32))\n",
        "model.add(Dense(1, activation='sigmoid'))\n",
        "model.compile(optimizer='rmsprop', loss='binary_crossentropy', metrics=['acc'])\n",
        "history = model.fit(x_train, y_train,\n",
        "epochs=10,\n",
        "batch_size=128,\n",
        "validation_split=0.2)"
      ],
      "execution_count": 463,
      "outputs": [
        {
          "output_type": "stream",
          "text": [
            "/usr/local/lib/python3.6/dist-packages/tensorflow/python/framework/indexed_slices.py:434: UserWarning: Converting sparse IndexedSlices to a dense Tensor of unknown shape. This may consume a large amount of memory.\n",
            "  \"Converting sparse IndexedSlices to a dense Tensor of unknown shape. \"\n"
          ],
          "name": "stderr"
        },
        {
          "output_type": "stream",
          "text": [
            "Train on 21600 samples, validate on 5400 samples\n",
            "Epoch 1/10\n",
            "21600/21600 [==============================] - 26s 1ms/step - loss: 0.5204 - acc: 0.7387 - val_loss: 0.4371 - val_acc: 0.7980\n",
            "Epoch 2/10\n",
            "21600/21600 [==============================] - 26s 1ms/step - loss: 0.2997 - acc: 0.8801 - val_loss: 0.3402 - val_acc: 0.8583\n",
            "Epoch 3/10\n",
            "21600/21600 [==============================] - 26s 1ms/step - loss: 0.2041 - acc: 0.9253 - val_loss: 0.3737 - val_acc: 0.8413\n",
            "Epoch 4/10\n",
            "21600/21600 [==============================] - 26s 1ms/step - loss: 0.1163 - acc: 0.9600 - val_loss: 0.3995 - val_acc: 0.8478\n",
            "Epoch 5/10\n",
            "21600/21600 [==============================] - 26s 1ms/step - loss: 0.0590 - acc: 0.9819 - val_loss: 0.4530 - val_acc: 0.8461\n",
            "Epoch 6/10\n",
            "21600/21600 [==============================] - 26s 1ms/step - loss: 0.0272 - acc: 0.9918 - val_loss: 0.5465 - val_acc: 0.8198\n",
            "Epoch 7/10\n",
            "21600/21600 [==============================] - 26s 1ms/step - loss: 0.0136 - acc: 0.9959 - val_loss: 0.5868 - val_acc: 0.8413\n",
            "Epoch 8/10\n",
            "21600/21600 [==============================] - 26s 1ms/step - loss: 0.0073 - acc: 0.9981 - val_loss: 0.6756 - val_acc: 0.8178\n",
            "Epoch 9/10\n",
            "21600/21600 [==============================] - 26s 1ms/step - loss: 0.0091 - acc: 0.9979 - val_loss: 0.7033 - val_acc: 0.8354\n",
            "Epoch 10/10\n",
            "21600/21600 [==============================] - 26s 1ms/step - loss: 0.0047 - acc: 0.9985 - val_loss: 0.8157 - val_acc: 0.7822\n"
          ],
          "name": "stdout"
        }
      ]
    },
    {
      "cell_type": "code",
      "metadata": {
        "id": "FpY-pon7KDeY",
        "colab_type": "code",
        "colab": {
          "base_uri": "https://localhost:8080/",
          "height": 545
        },
        "outputId": "f6172c74-237e-4f82-cef6-5e2b498b6ac0"
      },
      "source": [
        "import matplotlib.pyplot as plt\n",
        "acc = history.history['acc']\n",
        "val_acc = history.history['val_acc']\n",
        "loss = history.history['loss']\n",
        "val_loss = history.history['val_loss']\n",
        "epochs = range(1, len(acc) + 1)\n",
        "plt.plot(epochs, acc, 'bo', label='Training acc')\n",
        "plt.plot(epochs, val_acc, 'b', label='Validation acc')\n",
        "plt.title('Training and validation accuracy')\n",
        "plt.legend()\n",
        "plt.figure()\n",
        "plt.plot(epochs, loss, 'bo', label='Training loss')\n",
        "plt.plot(epochs, val_loss, 'b', label='Validation loss')\n",
        "plt.title('Training and validation loss')\n",
        "plt.legend()\n",
        "plt.show()"
      ],
      "execution_count": 464,
      "outputs": [
        {
          "output_type": "display_data",
          "data": {
            "image/png": "[encoded data removed]",
            "text/plain": [
              "<Figure size 432x288 with 1 Axes>"
            ]
          },
          "metadata": {
            "tags": [],
            "needs_background": "light"
          }
        },
        {
          "output_type": "display_data",
          "data": {
            "image/png": "[encoded data removed]",
            "text/plain": [
              "<Figure size 432x288 with 1 Axes>"
            ]
          },
          "metadata": {
            "tags": [],
            "needs_background": "light"
          }
        }
      ]
    }
  ]
}